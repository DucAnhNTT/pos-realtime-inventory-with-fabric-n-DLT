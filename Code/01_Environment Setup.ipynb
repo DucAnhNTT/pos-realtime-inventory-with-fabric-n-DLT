{
 "cells": [
  {
   "cell_type": "markdown",
   "metadata": {
    "application/vnd.databricks.v1+cell": {
     "cellMetadata": {},
     "inputWidgets": {},
     "nuid": "d876b2a1-7a43-4f91-a420-0c7678ec0c95",
     "showTitle": false,
     "tableResultSettingsMap": {},
     "title": ""
    }
   },
   "source": [
    "You may find this series of notebooks at https://github.com/databricks-industry-solutions/pos-dlt. For more information about this solution accelerator, visit https://www.databricks.com/solutions/accelerators/real-time-point-of-sale-analytics."
   ]
  },
  {
   "cell_type": "markdown",
   "metadata": {
    "application/vnd.databricks.v1+cell": {
     "cellMetadata": {},
     "inputWidgets": {},
     "nuid": "b4816742-272f-4b3d-9210-84961ae45241",
     "showTitle": false,
     "tableResultSettingsMap": {},
     "title": ""
    }
   },
   "source": [
    "This notebook provides instructions for setting up the cloud services on which subsequent notebooks depend.  It also captures various configuration settings required by those notebooks. You do not need to run this notebook separately as each notebook in the set calls this notebook to retrieve configuration data. **However**, you should read the environment setup instructions in this notebook carefully and update all configuration values as appropriate.\n",
    "\n",
    "**NOTE** For environments with sensitive data, it is advised that you take advantage of the Databricks [secret management](https://docs.databricks.com/security/secrets/index.html) capability to secure these values."
   ]
  },
  {
   "cell_type": "code",
   "execution_count": 0,
   "metadata": {
    "application/vnd.databricks.v1+cell": {
     "cellMetadata": {},
     "inputWidgets": {},
     "nuid": "73648e24-be28-4372-b6d2-c58f5341f9ba",
     "showTitle": true,
     "tableResultSettingsMap": {},
     "title": "Initialize Config Settings"
    }
   },
   "outputs": [],
   "source": [
    "if 'config' not in locals():\n",
    "  config = {}"
   ]
  },
  {
   "cell_type": "markdown",
   "metadata": {
    "application/vnd.databricks.v1+cell": {
     "cellMetadata": {},
     "inputWidgets": {},
     "nuid": "d1988f1b-ebd1-447b-bd03-ca5ef461285f",
     "showTitle": false,
     "tableResultSettingsMap": {},
     "title": ""
    }
   },
   "source": [
    "## Step 1: Setup the Azure Environment\n",
    "\n",
    "While Databricks is a cloud-agnostic platform, this demonstration will leverage several external technologies made available by the cloud provider. This will require us to supply cloud-specific environment setup guidance. For this demonstration, we've elected to make use of technologies provided by the Microsoft Azure cloud though this scenario is supportable using similar technologies made available by AWS and GCP.\n",
    "\n",
    "The Azure-specific technologies we will use are:</p>\n",
    "\n",
    "* [Azure IOT Hub](https://docs.microsoft.com/en-us/azure/iot-hub/about-iot-hub)\n",
    "* [Azure Storage](https://docs.microsoft.com/en-us/azure/storage/common/storage-introduction)\n",
    "\n",
    "To set these up, you will need to have access to an [Azure subscription](https://azure.microsoft.com/en-us/account/).  "
   ]
  },
  {
   "cell_type": "markdown",
   "metadata": {
    "application/vnd.databricks.v1+cell": {
     "cellMetadata": {},
     "inputWidgets": {},
     "nuid": "d2276177-6a83-4887-9660-1cfcf5153006",
     "showTitle": false,
     "tableResultSettingsMap": {},
     "title": ""
    }
   },
   "source": [
    "#### Step 1a: Setup the Azure IOT Hub\n",
    "\n",
    "To setup and configure the Azure IOT Hub, you will need to:</p>\n",
    "\n",
    "1. [Create an Azure IOT Hub](https://docs.microsoft.com/en-us/azure/iot-hub/iot-hub-create-through-portal#create-an-iot-hub). We used an S1-sized IOT Hub for a 10x playback of event data as described in the next notebook.\n",
    "2. [Add a Device and retrieve the Device Connection String](https://docs.microsoft.com/en-us/azure/iot-hub/iot-hub-create-through-portal#register-a-new-device-in-the-iot-hub). We used a device with Symmetric key authentication and auto-generated keys enabled to connect to the IOT Hub.\n",
    "3. [Retrieve the Azure IOT Hub's Event Hub Endpoint Compatible Endpoint property](https://docs.microsoft.com/en-us/azure/iot-hub/iot-hub-devguide-messages-read-builtin#read-from-the-built-in-endpoint).\n",
    "4. Set Azure IOT Hub relevant configuration values in the block below. You can set up a [secret scope](https://docs.databricks.com/security/secrets/secret-scopes.html) to manage credentials used in notebooks. For the block below, we have manually set up the `solution-accelerator-cicd` secret scope and saved our credentials there for internal testing purposes.\n",
    "\n",
    "**NOTE** Details on the Kafka configurations associated with an Azure IOT Hub's event hub endpoint are found [here](https://github.com/Azure/azure-event-hubs-for-kafka/tree/master/tutorials/spark). "
   ]
  },
  {
   "cell_type": "code",
   "execution_count": 0,
   "metadata": {
    "application/vnd.databricks.v1+cell": {
     "cellMetadata": {},
     "inputWidgets": {},
     "nuid": "34abfcdc-23c6-4be0-a89c-83ba4e8e6c5a",
     "showTitle": true,
     "tableResultSettingsMap": {},
     "title": "Config Settings for Azure IOT Hub "
    }
   },
   "outputs": [],
   "source": [
    "# config['iot_device_connection_string'] = 'YOUR IOT HUB DEVICE CONNECTION STRING HERE' # replace with your own credential here temporarily or set up a secret scope with your credential\n",
    "config['iot_device_connection_string'] = dbutils.secrets.get(\"solution-accelerator-cicd\",\"rcg_pos_iot_hub_conn_string\") \n",
    "\n",
    "# config['event_hub_compatible_endpoint'] = 'YOUR IOT HUB EVENT HUB COMPATIBLE ENDPOINT PROPERTY HERE' # replace with your own credential here temporarily or set up a secret scope with your credential\n",
    "config['event_hub_compatible_endpoint'] = dbutils.secrets.get(\"solution-accelerator-cicd\",\"rcg_pos_iot_hub_endpoint\") \n",
    "\n",
    "# helper function to convert strings above into dictionaries\n",
    "def split_connstring(connstring):\n",
    "  conn_dict = {}\n",
    "  for kv in connstring.split(';'):\n",
    "    k,v = kv.split('=',1)\n",
    "    conn_dict[k]=v\n",
    "  return conn_dict\n",
    "  \n",
    "# split conn strings\n",
    "iothub_conn = split_connstring(config['iot_device_connection_string'])\n",
    "eventhub_conn = split_connstring(config['event_hub_compatible_endpoint'])\n",
    "\n",
    "\n",
    "# configure kafka endpoint settings\n",
    "config['eh_namespace'] = eventhub_conn['Endpoint'].split('.')[0].split('://')[1] \n",
    "config['eh_kafka_topic'] = iothub_conn['HostName'].split('.')[0]\n",
    "config['eh_listen_key_name'] = 'ehListen{0}AccessKey'.format(config['eh_namespace'])\n",
    "config['eh_bootstrap_servers'] = '{0}.servicebus.windows.net:9093'.format(config['eh_namespace'])\n",
    "config['eh_sasl'] = 'kafkashaded.org.apache.kafka.common.security.plain.PlainLoginModule required username=\\\"$ConnectionString\\\" password=\\\"Endpoint={0};SharedAccessKeyName={1};SharedAccessKey={2}\\\";'.format(eventhub_conn['Endpoint'], eventhub_conn['SharedAccessKeyName'], eventhub_conn['SharedAccessKey'])"
   ]
  },
  {
   "cell_type": "markdown",
   "metadata": {
    "application/vnd.databricks.v1+cell": {
     "cellMetadata": {},
     "inputWidgets": {},
     "nuid": "76dc400f-2779-432b-81ef-f7578cb6fa4a",
     "showTitle": false,
     "tableResultSettingsMap": {},
     "title": ""
    }
   },
   "source": [
    "####Step 1b: Setup the Azure Storage Account\n",
    "\n",
    "To setup and configure the Azure Storage account, you will need to:</p>\n",
    "\n",
    "1. [Create an Azure Storage Account](https://docs.microsoft.com/en-us/azure/storage/common/storage-account-create?tabs=azure-portal).\n",
    "2. [Create a Blob Storage container](https://docs.microsoft.com/en-us/azure/storage/blobs/storage-quickstart-blobs-portal#create-a-container).\n",
    "3. [Retrieve an Account Access Key & Connection String](https://docs.microsoft.com/en-us/azure/storage/common/storage-account-keys-manage?tabs=azure-portal#view-account-access-keys).\n",
    "4. Set Azure Storage Account relevant configuration values in the cell below. You can set up a [secret scope](https://docs.databricks.com/security/secrets/secret-scopes.html) to manage credentials used in notebooks. For the block below, we have manually set up the `solution-accelerator-cicd` secret scope and saved our credentials there for internal testing purposes."
   ]
  },
  {
   "cell_type": "code",
   "execution_count": 0,
   "metadata": {
    "application/vnd.databricks.v1+cell": {
     "cellMetadata": {},
     "inputWidgets": {},
     "nuid": "542a238c-5bfb-4d11-87a0-311b6827dc89",
     "showTitle": true,
     "tableResultSettingsMap": {},
     "title": "Config Settings for Azure Storage Account"
    }
   },
   "outputs": [],
   "source": [
    "# config['storage_account_name'] = 'YOUR STORAGE ACCOUNT NAME STRING HERE' # replace with your own credential here temporarily or set up a secret scope with your credential\n",
    "config['storage_account_name'] = dbutils.secrets.get(\"solution-accelerator-cicd\",\"rcg_pos_storage_account_name\") \n",
    "\n",
    "config['storage_container_name'] = 'pos'\n",
    "\n",
    "# config['storage_account_access_key'] = 'YOUR STORAGE ACCOUNT ACCESS KEY HERE' # replace with your own credential here temporarily or set up a secret scope with your credential\n",
    "config['storage_account_access_key'] = dbutils.secrets.get(\"solution-accelerator-cicd\",\"rcg_pos_storage_account_key\") \n",
    "\n",
    "config['storage_connection_string'] = 'DefaultEndpointsProtocol=https;AccountName={0};AccountKey={1};EndpointSuffix=core.windows.net'.format(config['storage_account_name'], config['storage_account_access_key'])"
   ]
  },
  {
   "cell_type": "markdown",
   "metadata": {
    "application/vnd.databricks.v1+cell": {
     "cellMetadata": {},
     "inputWidgets": {},
     "nuid": "9ca3e706-f4a5-4dee-ab90-168706d3a4b6",
     "showTitle": false,
     "tableResultSettingsMap": {},
     "title": ""
    }
   },
   "source": [
    "## Step 2: Mount the Azure Storage to Databricks\n",
    "\n",
    "The Azure Storage account created in the previous step will now be [mounted](https://docs.databricks.com/data/data-sources/azure/azure-storage.html#mount-azure-blob-storage-containers-to-dbfs) to the Databricks environment.  To do this, you will need access to various storage account details captured in Step 1b:"
   ]
  },
  {
   "cell_type": "code",
   "execution_count": 0,
   "metadata": {
    "application/vnd.databricks.v1+cell": {
     "cellMetadata": {},
     "inputWidgets": {},
     "nuid": "e0bfab5d-8750-460c-81c2-90482b2a38b0",
     "showTitle": true,
     "tableResultSettingsMap": {},
     "title": "Config Settings for DBFS Mount Point"
    }
   },
   "outputs": [],
   "source": [
    "config['dbfs_mount_name'] = f'/mnt/pos' "
   ]
  },
  {
   "cell_type": "code",
   "execution_count": 0,
   "metadata": {
    "application/vnd.databricks.v1+cell": {
     "cellMetadata": {},
     "inputWidgets": {},
     "nuid": "702ee5c0-38f7-457d-a04e-c4b60aa6e468",
     "showTitle": true,
     "tableResultSettingsMap": {},
     "title": "Create DBFS Mount Point"
    }
   },
   "outputs": [],
   "source": [
    "conf_key_name = \"fs.azure.account.key.{0}.blob.core.windows.net\".format(config['storage_account_name'])\n",
    "conf_key_value = config['storage_account_access_key']\n",
    "\n",
    "# determine if not already mounted\n",
    "for m in dbutils.fs.mounts():\n",
    "  mount_exists = (m.mountPoint==config['dbfs_mount_name'])\n",
    "  if mount_exists: break\n",
    "\n",
    "# create mount if not exists\n",
    "if not mount_exists:\n",
    "  \n",
    "  print('creating mount point {0}'.format(config['dbfs_mount_name']))\n",
    "  \n",
    "  # create mount\n",
    "  dbutils.fs.mount(\n",
    "    source = \"wasbs://{0}@{1}.blob.core.windows.net\".format(\n",
    "      config['storage_container_name'], \n",
    "      config['storage_account_name']\n",
    "      ),\n",
    "    mount_point = config['dbfs_mount_name'],\n",
    "    extra_configs = {conf_key_name:conf_key_value}\n",
    "    )"
   ]
  },
  {
   "cell_type": "markdown",
   "metadata": {
    "application/vnd.databricks.v1+cell": {
     "cellMetadata": {},
     "inputWidgets": {},
     "nuid": "e8978e9b-9a67-4858-88ef-6919e0323c98",
     "showTitle": false,
     "tableResultSettingsMap": {},
     "title": ""
    }
   },
   "source": [
    "## Step 3: Upload Data Files to Azure Storage\n",
    "\n",
    "This accelerator makes use of simulated data that can be downloaded to your desktop system from [here](https://github.com/databricks/tech-talks/blob/master/datasets/point_of_sale_simulated.zip). To make this data available to the notebooks, the various files must be uploaded to the DBFS mount point created in the last step as follows:\n",
    "\n",
    "**NOTE** In the table below, it is assumed the mount point is defined as */mnt/pos*. If you used an alternative mount point name above, be sure you updated the *dbfs_mount_name* configuration parameter and deposit the files into the appropriate location.\n",
    "\n",
    "| File Type | File | Path |\n",
    "| -----|------|------|\n",
    "| Change Event| inventory_change_store001.txt |  /mnt/pos/generator/inventory_change_store001.txt |\n",
    "|Change Event| inventory_change_online.txt | /mnt/pos/generator/inventory_change_online.txt  |\n",
    "|Snapshot| inventory_snapshot_store001.txt | /mnt/pos/generator/inventory_snapshot_store001.txt  |\n",
    "|Snapshot| inventory_snapshot_online.txt | /mnt/pos/generator/inventory_snapshot_online.txt  |\n",
    "|Static |      stores.txt                         |         /mnt/pos/static_data/stores.txt                                         |\n",
    "|Static|      items.txt                 |           /mnt/pos/static_data/items.txt                                       |\n",
    "|Static|      inventory_change_type.txt                      |           /mnt/pos/static_data/inventory_change_type.txt                                       |\n",
    "\n",
    "To upload these files from your desktop system, please feel free to use either of the following techniques:</p>\n",
    "\n",
    "* [Upload files via the Azure Portal](https://docs.microsoft.com/en-us/azure/storage/blobs/storage-quickstart-blobs-portal)\n",
    "* [Upload files via Azure Storage Explorer](https://docs.microsoft.com/en-us/azure/storage/blobs/storage-quickstart-blobs-storage-explorer)"
   ]
  },
  {
   "cell_type": "code",
   "execution_count": 0,
   "metadata": {
    "application/vnd.databricks.v1+cell": {
     "cellMetadata": {},
     "inputWidgets": {},
     "nuid": "0ee4d7e1-fb52-465e-af40-feef9f951787",
     "showTitle": true,
     "tableResultSettingsMap": {},
     "title": "Config Settings for Data Files"
    }
   },
   "outputs": [],
   "source": [
    "# change event data files\n",
    "config['inventory_change_store001_filename'] = config['dbfs_mount_name'] + '/generator/inventory_change_store001.txt'\n",
    "config['inventory_change_online_filename'] = config['dbfs_mount_name'] + '/generator/inventory_change_online.txt'\n",
    "\n",
    "# snapshot data files\n",
    "config['inventory_snapshot_store001_filename'] = config['dbfs_mount_name'] + '/generator/inventory_snapshot_store001.txt'\n",
    "config['inventory_snapshot_online_filename'] = config['dbfs_mount_name'] + '/generator/inventory_snapshot_online.txt'\n",
    "\n",
    "# static data files\n",
    "config['stores_filename'] = config['dbfs_mount_name'] + '/static_data/store.txt'\n",
    "config['items_filename'] = config['dbfs_mount_name'] + '/static_data/item.txt'\n",
    "config['change_types_filename'] = config['dbfs_mount_name'] + '/static_data/inventory_change_type.txt'"
   ]
  },
  {
   "cell_type": "markdown",
   "metadata": {
    "application/vnd.databricks.v1+cell": {
     "cellMetadata": {},
     "inputWidgets": {},
     "nuid": "28ee6dd5-aea2-475e-b3e6-f55e07d096b9",
     "showTitle": false,
     "tableResultSettingsMap": {},
     "title": ""
    }
   },
   "source": [
    "## Step 4: Configure Misc. Items\n",
    "\n",
    "In this last step, we will provide the paths to a few items our accelerator will need to access.  First amongst these is the location of the inventory snapshot files our simulated stores will deposit into our streaming infrastructure.  This path should be dedicated to this one purpose and not shared with other file types:"
   ]
  },
  {
   "cell_type": "code",
   "execution_count": 0,
   "metadata": {
    "application/vnd.databricks.v1+cell": {
     "cellMetadata": {},
     "inputWidgets": {},
     "nuid": "9a3ffbe1-895c-4d94-b6aa-78da2d371e58",
     "showTitle": true,
     "tableResultSettingsMap": {},
     "title": "Config Settings for Checkpoint Files"
    }
   },
   "outputs": [],
   "source": [
    "config['inventory_snapshot_path'] = config['dbfs_mount_name'] + '/inventory_snapshots/'"
   ]
  },
  {
   "cell_type": "markdown",
   "metadata": {
    "application/vnd.databricks.v1+cell": {
     "cellMetadata": {},
     "inputWidgets": {},
     "nuid": "8caf5e17-e8a1-4dac-8372-707aebf085ed",
     "showTitle": false,
     "tableResultSettingsMap": {},
     "title": ""
    }
   },
   "source": [
    "Next, we will configure the default storage location for our DLT objects and metadata:"
   ]
  },
  {
   "cell_type": "code",
   "execution_count": 0,
   "metadata": {
    "application/vnd.databricks.v1+cell": {
     "cellMetadata": {},
     "inputWidgets": {},
     "nuid": "3197b556-6753-47f7-aad2-5e384030dfad",
     "showTitle": true,
     "tableResultSettingsMap": {},
     "title": "Config Settings for DLT Data"
    }
   },
   "outputs": [],
   "source": [
    "config['dlt_pipeline'] = config['dbfs_mount_name'] + '/dlt_pipeline'"
   ]
  },
  {
   "cell_type": "markdown",
   "metadata": {
    "application/vnd.databricks.v1+cell": {
     "cellMetadata": {},
     "inputWidgets": {},
     "nuid": "4d6b3890-ee74-4941-bfef-9be41be72e35",
     "showTitle": false,
     "tableResultSettingsMap": {},
     "title": ""
    }
   },
   "source": [
    "Finally, we will set the name of the database within which persisted data objects will be housed:"
   ]
  },
  {
   "cell_type": "code",
   "execution_count": 0,
   "metadata": {
    "application/vnd.databricks.v1+cell": {
     "cellMetadata": {},
     "inputWidgets": {},
     "nuid": "53e3436e-d838-4b74-b72f-a33dbb8f110d",
     "showTitle": true,
     "tableResultSettingsMap": {},
     "title": "Identify Database for Data Objects and initialize it"
    }
   },
   "outputs": [],
   "source": [
    "database_name = f'pos_dlt'\n",
    "config['database'] = database_name"
   ]
  },
  {
   "cell_type": "markdown",
   "metadata": {},
   "source": [
    "## Step 5: Configure Fabric\n",
    "\n",
    "- We continue to set-up The Fabric enviroment\n",
    "    - Evensteam (https://learn.microsoft.com/en-us/fabric/real-time-intelligence/event-streams/create-manage-an-eventstream?pivots=enhanced-capabilities)\n",
    "    - Event House (https://learn.microsoft.com/en-us/fabric/real-time-intelligence/create-eventhouse)\n",
    "    - Real-time Dashboard (https://learn.microsoft.com/en-us/fabric/real-time-intelligence/dashboard-real-time-create)\n"
   ]
  },
  {
   "cell_type": "code",
   "execution_count": null,
   "metadata": {},
   "outputs": [],
   "source": []
  },
  {
   "cell_type": "markdown",
   "metadata": {
    "application/vnd.databricks.v1+cell": {
     "cellMetadata": {},
     "inputWidgets": {},
     "nuid": "adaa05e1-271f-45fe-951c-701cbca2c447",
     "showTitle": false,
     "tableResultSettingsMap": {},
     "title": ""
    }
   },
   "source": [
    "\n",
    "&copy; 2022 Databricks, Inc. All rights reserved. The source in this notebook is provided subject to the [Databricks License](https://databricks.com/db-license-source).  All included or referenced third party libraries are subject to the licenses set forth below.\n",
    "\n",
    "| library                                | description             | license    | source                                              |\n",
    "|----------------------------------------|-------------------------|------------|-----------------------------------------------------|\n",
    "| azure-iot-device                                     | Microsoft Azure IoT Device Library | MIT    | https://pypi.org/project/azure-iot-device/                       |\n",
    "| azure-storage-blob                                | Microsoft Azure Blob Storage Client Library for Python| MIT        | https://pypi.org/project/azure-storage-blob/      |"
   ]
  }
 ],
 "metadata": {
  "application/vnd.databricks.v1+notebook": {
   "dashboards": [],
   "environmentMetadata": null,
   "language": "python",
   "notebookMetadata": {
    "pythonIndentUnit": 2
   },
   "notebookName": "01_Environment Setup",
   "widgets": {}
  },
  "language_info": {
   "name": "python"
  }
 },
 "nbformat": 4,
 "nbformat_minor": 0
}
