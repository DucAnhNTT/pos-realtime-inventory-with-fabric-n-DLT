{
 "cells": [
  {
   "cell_type": "markdown",
   "metadata": {
    "application/vnd.databricks.v1+cell": {
     "cellMetadata": {},
     "inputWidgets": {},
     "nuid": "1601ef61-417c-4f10-b5a2-695758c56048",
     "showTitle": false,
     "tableResultSettingsMap": {},
     "title": ""
    }
   },
   "source": [
    "This notebook sets up the companion cluster(s) to run the solution accelerator. It also creates the Workflow to illustrate the order of execution. Happy exploring! \n",
    "🎉\n",
    "\n",
    "**Steps**\n",
    "1. Simply attach this notebook to a cluster and hit Run-All for this notebook. A multi-step job and the clusters used in the job will be created for you and hyperlinks are printed on the last block of the notebook. \n",
    "\n",
    "2. Run the accelerator notebooks: Feel free to explore the multi-step job page and **run the Workflow**, or **run the notebooks interactively** with the cluster to see how this solution accelerator executes. \n",
    "\n",
    "    2a. **Run the Workflow**: Navigate to the Workflow link and hit the `Run Now` 💥. \n",
    "  \n",
    "    2b. **Run the notebooks interactively**: Attach the notebook with the cluster(s) created and execute as described in the `job_json['tasks']` below.\n",
    "\n",
    "**Prerequisites** \n",
    "1. You need to have cluster creation permissions in this workspace.\n",
    "\n",
    "2. In case the environment has cluster-policies that interfere with automated deployment, you may need to manually create the cluster in accordance with the workspace cluster policy. The `job_json` definition below still provides valuable information about the configuration these series of notebooks should run with. \n",
    "\n",
    "**Notes**\n",
    "1. The pipelines, workflows and clusters created in this script are not user-specific. Keep in mind that rerunning this script again after modification resets them for other users too.\n",
    "\n",
    "2. If the job execution fails, please confirm that you have set up other environment dependencies as specified in the accelerator notebooks. Accelerators may require the user to set up additional cloud infra or secrets to manage credentials. "
   ]
  },
  {
   "cell_type": "code",
   "execution_count": 0,
   "metadata": {
    "application/vnd.databricks.v1+cell": {
     "cellMetadata": {},
     "inputWidgets": {},
     "nuid": "51d350dc-7373-451e-bef7-61e6f03095d0",
     "showTitle": false,
     "tableResultSettingsMap": {},
     "title": "Install util packages"
    }
   },
   "outputs": [],
   "source": [
    "%pip install git+https://github.com/databricks-academy/dbacademy@v1.0.13 git+https://github.com/databricks-industry-solutions/notebook-solution-companion@safe-print-html --quiet --disable-pip-version-check"
   ]
  },
  {
   "cell_type": "code",
   "execution_count": 0,
   "metadata": {
    "application/vnd.databricks.v1+cell": {
     "cellMetadata": {},
     "inputWidgets": {},
     "nuid": "abc7f575-e120-4b02-b28a-34f984a3bca7",
     "showTitle": false,
     "tableResultSettingsMap": {},
     "title": ""
    }
   },
   "outputs": [],
   "source": [
    "from solacc.companion import NotebookSolutionCompanion"
   ]
  },
  {
   "cell_type": "markdown",
   "metadata": {
    "application/vnd.databricks.v1+cell": {
     "cellMetadata": {},
     "inputWidgets": {},
     "nuid": "3f1a72ac-8f1b-4d12-ae3d-f477eb5115a2",
     "showTitle": false,
     "tableResultSettingsMap": {},
     "title": ""
    }
   },
   "source": [
    "Before setting up the rest of the accelerator, we need set up a few credentials in order to access the source dataset and other cloud infrastructure dependencies. Here we demonstrate using the [Databricks Secret Scope](https://docs.databricks.com/security/secrets/secret-scopes.html) for credential management. \n",
    "\n",
    "#### Step 1a: Setup the Azure IOT Hub\n",
    "\n",
    "To setup and configure the Azure IOT Hub, you will need to:</p>\n",
    "\n",
    "1. [Create an Azure IOT Hub](https://docs.microsoft.com/en-us/azure/iot-hub/iot-hub-create-through-portal#create-an-iot-hub). We used an S1-sized IOT Hub for a 10x playback of event data as described in the next notebook.\n",
    "2. [Add a Device and retrieve the Device Connection String](https://docs.microsoft.com/en-us/azure/iot-hub/iot-hub-create-through-portal#register-a-new-device-in-the-iot-hub). We used a device with Symmetric key authentication and auto-generated keys enabled to connect to the IOT Hub.\n",
    "3. [Retrieve the Azure IOT Hub's Event Hub Endpoint Compatible Endpoint property](https://docs.microsoft.com/en-us/azure/iot-hub/iot-hub-devguide-messages-read-builtin#read-from-the-built-in-endpoint).\n",
    "4. Set Azure IOT Hub relevant configuration values in the block below. You can set up a [secret scope](https://docs.databricks.com/security/secrets/secret-scopes.html) to manage credentials used in notebooks. For the block below, we have manually set up the `solution-accelerator-cicd` secret scope and saved our credentials there for internal testing purposes.\n",
    "\n",
    "**NOTE** Details on the Kafka configurations associated with an Azure IOT Hub's event hub endpoint are found [here](https://github.com/Azure/azure-event-hubs-for-kafka/tree/master/tutorials/spark). \n",
    "\n",
    "####Step 1b: Setup the Azure Storage Account\n",
    "\n",
    "To setup and configure the Azure Storage account, you will need to:</p>\n",
    "\n",
    "1. [Create an Azure Storage Account](https://docs.microsoft.com/en-us/azure/storage/common/storage-account-create?tabs=azure-portal).\n",
    "2. [Create a Blob Storage container](https://docs.microsoft.com/en-us/azure/storage/blobs/storage-quickstart-blobs-portal#create-a-container).\n",
    "3. [Retrieve an Account Access Key & Connection String](https://docs.microsoft.com/en-us/azure/storage/common/storage-account-keys-manage?tabs=azure-portal#view-account-access-keys).\n",
    "4. Set Azure Storage Account relevant configuration values in the cell below. You can set up a [secret scope](https://docs.databricks.com/security/secrets/secret-scopes.html) to manage credentials used in notebooks. For the block below, we have manually set up the `solution-accelerator-cicd` secret scope and saved our credentials there for internal testing purposes.\n",
    "\n",
    "Copy the block of code below, replace the name the secret scope and fill in the credentials and execute the block. After executing the code, The accelerator notebook will be able to access the credentials it needs.\n",
    "\n",
    "\n",
    "```\n",
    "client = NotebookSolutionCompanion().client\n",
    "try:\n",
    "  client.execute_post_json(f\"{client.endpoint}/api/2.0/secrets/scopes/create\", {\"scope\": \"solution-accelerator-cicd\"})\n",
    "except:\n",
    "  pass\n",
    "\n",
    "client.execute_post_json(f\"{client.endpoint}/api/2.0/secrets/put\", {\n",
    "  \"scope\": \"solution-accelerator-cicd\",\n",
    "  \"key\": \"rcg_pos_iot_hub_conn_string\",\n",
    "  \"string_value\": '____' \n",
    "})\n",
    "\n",
    "client.execute_post_json(f\"{client.endpoint}/api/2.0/secrets/put\", {\n",
    "  \"scope\": \"solution-accelerator-cicd\",\n",
    "  \"key\": \"rcg_pos_iot_hub_endpoint\",\n",
    "  \"string_value\": '____'\n",
    "})\n",
    "\n",
    "try:\n",
    "  client.execute_post_json(f\"{client.endpoint}/api/2.0/secrets/scopes/create\", {\"scope\": \"clickstream-readonly\"})\n",
    "except:\n",
    "  pass\n",
    "client.execute_post_json(f\"{client.endpoint}/api/2.0/secrets/put\", {\n",
    "  \"scope\": \"clickstream-readonly\", \n",
    "  \"key\": \"rcg_pos_storage_account_name\",\n",
    "  \"string_value\": \"____\"\n",
    "})\n",
    "\n",
    "try:\n",
    "  client.execute_post_json(f\"{client.endpoint}/api/2.0/secrets/scopes/create\", {\"scope\": \"clickstream-readwrite\"})\n",
    "except:\n",
    "  pass\n",
    "client.execute_post_json(f\"{client.endpoint}/api/2.0/secrets/put\", {\n",
    "  \"scope\": \"clickstream-readwrite\", \n",
    "  \"key\": \"rcg_pos_storage_account_key\",\n",
    "  \"string_value\": \"____\"\n",
    "})\n",
    "\n",
    "```"
   ]
  },
  {
   "cell_type": "code",
   "execution_count": 0,
   "metadata": {
    "application/vnd.databricks.v1+cell": {
     "cellMetadata": {},
     "inputWidgets": {},
     "nuid": "ad7c05d4-b9c9-4216-a068-d7d550f4bbbe",
     "showTitle": false,
     "tableResultSettingsMap": {},
     "title": ""
    }
   },
   "outputs": [],
   "source": [
    "spark.sql(f\"CREATE DATABASE IF NOT EXISTS databricks_solacc LOCATION '/databricks_solacc/'\")\n",
    "spark.sql(f\"CREATE TABLE IF NOT EXISTS databricks_solacc.dlt (path STRING, pipeline_id STRING, solacc STRING)\")\n",
    "dlt_config_table = \"databricks_solacc.dlt\""
   ]
  },
  {
   "cell_type": "code",
   "execution_count": 0,
   "metadata": {
    "application/vnd.databricks.v1+cell": {
     "cellMetadata": {},
     "inputWidgets": {},
     "nuid": "c641b34e-57cf-4cd0-9f52-17b0b737516a",
     "showTitle": false,
     "tableResultSettingsMap": {},
     "title": ""
    }
   },
   "outputs": [],
   "source": [
    "pipeline_json = {\n",
    "          \"clusters\": [\n",
    "              {\n",
    "                  \"label\": \"default\",\n",
    "                  \"autoscale\": {\n",
    "                      \"min_workers\": 1,\n",
    "                      \"max_workers\": 3\n",
    "                  }\n",
    "              }\n",
    "          ],\n",
    "          \"libraries\": [\n",
    "              {\n",
    "                  \"notebook\": {\n",
    "                      \"path\": \"03_Bronze-to-Silver ETL\"\n",
    "                  }\n",
    "              },\n",
    "              {\n",
    "                  \"notebook\": {\n",
    "                      \"path\": \"04_Silver-to-Gold ETL\"\n",
    "                  }\n",
    "              }\n",
    "          ],\n",
    "          \"name\": \"POS_DLT\",\n",
    "          \"storage\": f\"/databricks_solacc/pos/dlt_pipeline\",\n",
    "          \"target\": f\"solacc_pos_dlt\",\n",
    "          \"allow_duplicate_names\": True\n",
    "      }"
   ]
  },
  {
   "cell_type": "code",
   "execution_count": 0,
   "metadata": {
    "application/vnd.databricks.v1+cell": {
     "cellMetadata": {},
     "inputWidgets": {},
     "nuid": "3c76941f-6728-48da-bd07-d4b43d187d3e",
     "showTitle": false,
     "tableResultSettingsMap": {},
     "title": ""
    }
   },
   "outputs": [],
   "source": [
    "pipeline_id = NotebookSolutionCompanion().deploy_pipeline(pipeline_json, dlt_config_table, spark)"
   ]
  },
  {
   "cell_type": "code",
   "execution_count": 0,
   "metadata": {
    "application/vnd.databricks.v1+cell": {
     "cellMetadata": {},
     "inputWidgets": {},
     "nuid": "a897490b-a3c9-4cd4-b644-dcf7b0d3d18a",
     "showTitle": false,
     "tableResultSettingsMap": {},
     "title": ""
    }
   },
   "outputs": [],
   "source": [
    "job_json = {\n",
    "        \"timeout_seconds\": 7200,\n",
    "        \"max_concurrent_runs\": 1,\n",
    "        \"tags\": {\n",
    "            \"usage\": \"solacc_testing\",\n",
    "            \"group\": \"RCG_solacc_automation\"\n",
    "        },\n",
    "        \"tasks\": [\n",
    "            {\n",
    "                \"job_cluster_key\": \"POS_cluster\",\n",
    "                \"libraries\": [],\n",
    "                \"notebook_task\": {\n",
    "                    \"notebook_path\": \"02_Data Generation\",\n",
    "                    \"base_parameters\": {\n",
    "                        \"mode\": \"test\"\n",
    "                    }\n",
    "                },\n",
    "                \"task_key\": \"POS_01\",\n",
    "                \"description\": \"\"\n",
    "            },\n",
    "            {\n",
    "                \"pipeline_task\": {\n",
    "                    \"pipeline_id\": pipeline_id\n",
    "                },\n",
    "                \"task_key\": \"POS_02\",\n",
    "                \"description\": \"\",\n",
    "                \"depends_on\": [\n",
    "                    {\n",
    "                        \"task_key\": \"POS_01\"\n",
    "                    }\n",
    "                ]\n",
    "            }\n",
    "        ],\n",
    "        \"job_clusters\": [\n",
    "            {\n",
    "                \"job_cluster_key\": \"POS_cluster\",\n",
    "                \"new_cluster\": {\n",
    "                    \"spark_version\": \"12.2.x-cpu-ml-scala2.12\",\n",
    "                    \"num_workers\": 2,\n",
    "                    \"node_type_id\": {\"AWS\": \"i3.xlarge\", \"MSA\": \"Standard_DS3_v2\", \"GCP\": \"n1-highmem-4\"},\n",
    "                    \"custom_tags\": {\n",
    "                        \"usage\": \"solacc_testing\",\n",
    "                        \"group\": \"RCG_solacc_automation\"\n",
    "                    },\n",
    "                }\n",
    "            }\n",
    "        ]\n",
    "    }"
   ]
  },
  {
   "cell_type": "code",
   "execution_count": 0,
   "metadata": {
    "application/vnd.databricks.v1+cell": {
     "cellMetadata": {},
     "inputWidgets": {},
     "nuid": "b34c6df8-c9e6-4d3b-93d3-1cac71533abb",
     "showTitle": true,
     "tableResultSettingsMap": {},
     "title": "Companion job and cluster(s) definition"
    }
   },
   "outputs": [],
   "source": [
    "dbutils.widgets.dropdown(\"run_job\", \"False\", [\"True\", \"False\"])\n",
    "run_job = dbutils.widgets.get(\"run_job\") == \"True\"\n",
    "NotebookSolutionCompanion().deploy_compute(job_json, run_job=run_job)"
   ]
  },
  {
   "cell_type": "code",
   "execution_count": 0,
   "metadata": {
    "application/vnd.databricks.v1+cell": {
     "cellMetadata": {},
     "inputWidgets": {},
     "nuid": "6f5e2dfb-30bb-4315-9820-185bc82f6117",
     "showTitle": false,
     "tableResultSettingsMap": {},
     "title": ""
    }
   },
   "outputs": [],
   "source": []
  }
 ],
 "metadata": {
  "application/vnd.databricks.v1+notebook": {
   "dashboards": [],
   "environmentMetadata": null,
   "language": "python",
   "notebookMetadata": {
    "pythonIndentUnit": 2
   },
   "notebookName": "RUNME",
   "widgets": {}
  },
  "language_info": {
   "name": "python"
  }
 },
 "nbformat": 4,
 "nbformat_minor": 0
}
