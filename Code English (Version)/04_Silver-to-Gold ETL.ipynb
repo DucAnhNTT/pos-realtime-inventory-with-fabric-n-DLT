{
 "cells": [
  {
   "cell_type": "markdown",
   "metadata": {
    "application/vnd.databricks.v1+cell": {
     "cellMetadata": {},
     "inputWidgets": {},
     "nuid": "6c199399-fbf2-46f8-be64-c6326d7f0f66",
     "showTitle": false,
     "tableResultSettingsMap": {},
     "title": ""
    }
   },
   "source": [
    "You may find this series of notebooks at https://github.com/databricks-industry-solutions/pos-dlt. For more information about this solution accelerator, visit https://www.databricks.com/solutions/accelerators/real-time-point-of-sale-analytics."
   ]
  },
  {
   "cell_type": "markdown",
   "metadata": {
    "application/vnd.databricks.v1+cell": {
     "cellMetadata": {},
     "inputWidgets": {},
     "nuid": "19725b90-d8c6-4f19-9ed9-edb232e56899",
     "showTitle": false,
     "tableResultSettingsMap": {},
     "title": ""
    }
   },
   "source": [
    "This notebook was developed to run as part of a DLT pipeline. Details on the scheduling of the DLT jobs are provided in the *POS 05* notebook."
   ]
  },
  {
   "cell_type": "markdown",
   "metadata": {
    "application/vnd.databricks.v1+cell": {
     "cellMetadata": {},
     "inputWidgets": {},
     "nuid": "0415a23d-868f-4664-b18e-bf059959da54",
     "showTitle": false,
     "tableResultSettingsMap": {},
     "title": ""
    }
   },
   "source": [
    "**IMPORTANT NOTE** Do not attempt to interactively run the code in this notebook.  **This notebook must be scheduled as a DLT pipeline.**  If you attempt to run the notebook interactively, *e.g.* by running individual cells or clicking *Run All* from the top of the notebook you will encounter errors.  Job scheduling is addressed in the *POS 05* notebook."
   ]
  },
  {
   "cell_type": "markdown",
   "metadata": {
    "application/vnd.databricks.v1+cell": {
     "cellMetadata": {},
     "inputWidgets": {},
     "nuid": "9cbd3a6f-adaf-4405-84d0-39b7d3884bfb",
     "showTitle": false,
     "tableResultSettingsMap": {},
     "title": ""
    }
   },
   "source": [
    "The purpose of this notebook is to calculate the current-state inventory of products in various store locations leveraging data arriving in near real-time from point-of-sale systems.  Those data are exposed as Delta Live Table (DLT) objects in the *POS 3* notebook. \n",
    "\n",
    "This notebook should be scheduled to run while the *POS 02* notebook (which generates the simulated event data) runs on a separate cluster.  It also depends on the demo environment having been configured per the instructions in the *POS 01* notebook."
   ]
  },
  {
   "cell_type": "markdown",
   "metadata": {
    "application/vnd.databricks.v1+cell": {
     "cellMetadata": {},
     "inputWidgets": {},
     "nuid": "43ddff37-b987-447d-b1b7-b44612ed3699",
     "showTitle": false,
     "tableResultSettingsMap": {},
     "title": ""
    }
   },
   "source": [
    "## Step 1: Calculate Current Inventory\n",
    "\n",
    "In the last notebook, we defined Delta Live Table (DLT) objects to capture inventory change event data as well as periodic snapshot data flowing from stores into our lakehouse environment.  Leveraging these data along with various reference data elements, we might issue a query as follows to calculate the current state of product inventory:\n",
    "\n",
    "```\n",
    "SELECT \n",
    "  a.store_id,\n",
    "  a.item_id,\n",
    "  FIRST(a.quantity) as snapshot_quantity,  \n",
    "  COALESCE(SUM(b.quantity),0) as change_quantity,\n",
    "  FIRST(a.quantity) + COALESCE(SUM(b.quantity),0) as current_inventory,\n",
    "  GREATEST(FIRST(a.date_time), MAX(b.date_time)) as date_time\n",
    "FROM pos.latest_inventory_snapshot a  -- access latest snapshot\n",
    "LEFT OUTER JOIN ( -- calculate inventory change with bopis corrections\n",
    "  SELECT\n",
    "    x.store_id,\n",
    "    x.item_id,\n",
    "    x.date_time,\n",
    "    x.quantity\n",
    "  FROM pos.inventory_change x\n",
    "  INNER JOIN pos.store y\n",
    "    ON x.store_id=y.store_id\n",
    "  INNER JOIN pos.inventory_change_type z\n",
    "    ON x.change_type_id=z.change_type_id\n",
    "  WHERE NOT(y.name='online' AND z.change_type='bopis') -- exclude bopis records from online store\n",
    "  ) b\n",
    "  ON \n",
    "    a.store_id=b.store_id AND \n",
    "    a.item_id=b.item_id AND \n",
    "    a.date_time<=b.date_time\n",
    "GROUP BY\n",
    "  a.store_id,\n",
    "  a.item_id\n",
    "ORDER BY \n",
    "  date_time DESC\n",
    "```\n",
    "\n",
    "The query is moderately complex as it joins inventory change data to the latest inventory counts taken for a given product at a store location to calculate a current state.  The joining of these two datasets is facilitated by a match on store_id and item_id where inventory change data flowing from the POS occurs on or after an inventory count for that product was performed.  Because it is possible no POS events have been recorded since an item was counted, this join is implemented as an outer join.\n",
    "\n",
    "For an experienced Data Engineer reasonably comfortable with SQL, this is how a solution for current-state inventory calculations is intuitively defined. And this maps nicely to how we define the solution with Delta Live Tables (DLT):\n",
    "\n",
    "**NOTE** For more information on the DLT SQL specification, please refer to [this document](https://docs.microsoft.com/en-us/azure/databricks/data-engineering/delta-live-tables/delta-live-tables-sql-ref)."
   ]
  },
  {
   "cell_type": "code",
   "execution_count": 0,
   "metadata": {
    "application/vnd.databricks.v1+cell": {
     "cellMetadata": {},
     "inputWidgets": {},
     "nuid": "0249a587-96a8-46c6-b7b6-a83a1bc9f64c",
     "showTitle": true,
     "tableResultSettingsMap": {},
     "title": "Define Current Inventory Table (SQL)"
    }
   },
   "outputs": [],
   "source": [
    "SET pipelines.trigger.interval = 5 minute;\n",
    "\n",
    "CREATE LIVE TABLE inventory_current \n",
    "COMMENT 'calculate current inventory given the latest inventory snapshots and inventory-relevant events' \n",
    "TBLPROPERTIES (\n",
    "  'quality'='gold'\n",
    "  ) \n",
    "AS\n",
    "  SELECT  -- calculate current inventory\n",
    "    a.store_id,\n",
    "    a.item_id,\n",
    "    FIRST(a.quantity) as snapshot_quantity,\n",
    "    COALESCE(SUM(b.quantity), 0) as change_quantity,\n",
    "    FIRST(a.quantity) + COALESCE(SUM(b.quantity), 0) as current_inventory,\n",
    "    GREATEST(FIRST(a.date_time), MAX(b.date_time)) as date_time\n",
    "  FROM LIVE.latest_inventory_snapshot a -- access latest snapshot\n",
    "  LEFT OUTER JOIN ( -- calculate inventory change with bopis corrections\n",
    "    SELECT\n",
    "      x.store_id,\n",
    "      x.item_id,\n",
    "      x.date_time,\n",
    "      x.quantity\n",
    "    FROM LIVE.inventory_change x\n",
    "      INNER JOIN LIVE.store y ON x.store_id = y.store_id\n",
    "      INNER JOIN LIVE.inventory_change_type z ON x.change_type_id = z.change_type_id\n",
    "    WHERE NOT( y.name = 'online' AND z.change_type = 'bopis') -- exclude bopis records from online store\n",
    "    ) b \n",
    "    ON  \n",
    "      a.store_id = b.store_id AND\n",
    "      a.item_id = b.item_id AND\n",
    "      a.date_time <= b.date_time\n",
    "  GROUP BY\n",
    "    a.store_id,\n",
    "    a.item_id\n",
    "  ORDER BY \n",
    "    date_time DESC"
   ]
  },
  {
   "cell_type": "markdown",
   "metadata": {
    "application/vnd.databricks.v1+cell": {
     "cellMetadata": {},
     "inputWidgets": {},
     "nuid": "8b53d6a3-9ad5-4c89-9940-811244e3e86f",
     "showTitle": false,
     "tableResultSettingsMap": {},
     "title": ""
    }
   },
   "source": [
    "Of course, we could have used Python (as we did in the *POS 03* notebook) to define this object.  If we did, our implementation might look something like this:\n",
    "\n",
    "```\n",
    "\n",
    "@dlt.table(\n",
    "  name='inventory_current_python',\n",
    "  comment='current inventory count for a product in a store location',\n",
    "  table_properties={'quality':'gold'},\n",
    "  spark_conf={'pipelines.trigger.interval': '5 minutes'}\n",
    "  )\n",
    " def inventory_current_python():\n",
    "  \n",
    "   # calculate inventory change with bopis corrections\n",
    "   inventory_change_df = (\n",
    "      dlt\n",
    "       .read('inventory_change').alias('x')\n",
    "       .join(\n",
    "         dlt.read('store').alias('y'), \n",
    "         on='store_id'\n",
    "         )\n",
    "       .join(\n",
    "         dlt.read('inventory_change_type').alias('z'), \n",
    "         on='change_type_id'\n",
    "         )\n",
    "       .filter(f.expr(\"NOT(y.name='online' AND z.change_type='bopis')\"))\n",
    "       .select('store_id','item_id','date_time','quantity')\n",
    "       )\n",
    "   \n",
    "   # calculate current inventory\n",
    "   inventory_current_df = (\n",
    "      dlt\n",
    "         .read('latest_inventory_snapshot').alias('a')\n",
    "         .join(\n",
    "           inventory_change_df.alias('b'), \n",
    "           on=f.expr('''\n",
    "             a.store_id=b.store_id AND \n",
    "             a.item_id=b.item_id AND \n",
    "             a.date_time<=b.date_time\n",
    "             '''), \n",
    "           how='leftouter'\n",
    "           )\n",
    "         .groupBy('a.store_id','a.item_id')\n",
    "           .agg(\n",
    "               first('a.quantity').alias('snapshot_quantity'),\n",
    "               sum('b.quantity').alias('change_quantity'),\n",
    "               first('a.date_time').alias('snapshot_datetime'),\n",
    "               max('b.date_time').alias('change_datetime')\n",
    "               )\n",
    "         .withColumn('change_quantity', f.coalesce('change_quantity', f.lit(0)))\n",
    "         .withColumn('current_quantity', f.expr('snapshot_quantity + change_quantity'))\n",
    "         .withColumn('date_time', f.expr('GREATEST(snapshot_datetime, change_datetime)'))\n",
    "         .drop('snapshot_datetime','change_datetime')\n",
    "         .orderBy('current_quantity')\n",
    "         )\n",
    "   \n",
    "   return inventory_current_df\n",
    "```"
   ]
  },
  {
   "cell_type": "markdown",
   "metadata": {
    "application/vnd.databricks.v1+cell": {
     "cellMetadata": {},
     "inputWidgets": {},
     "nuid": "4021ed26-2114-4d0a-979f-89728e094866",
     "showTitle": false,
     "tableResultSettingsMap": {},
     "title": ""
    }
   },
   "source": [
    "It's important to note that the current inventory table is implemented using a 5-minute recalculation. While DLT supports near real-time streaming, the business objectives associated with the calculation of near current state inventories do not require up to the second precision.  Instead, 5-, 10- and 15-minute latencies are often preferred to give the data some stability and to reduce the computational requirements associated with keeping current.  From a business perspective, responses to diminished inventories are often triggered when values fall below a threshold that's well-above the point of full depletion (as lead times for restocking may be measured in hours, days or even weeks). With that in mind, the 5-minute interval used here exceeds the requirements of many retailers."
   ]
  },
  {
   "cell_type": "markdown",
   "metadata": {
    "application/vnd.databricks.v1+cell": {
     "cellMetadata": {},
     "inputWidgets": {},
     "nuid": "80a7a703-d279-43f7-a154-5f6b847d7bd2",
     "showTitle": false,
     "tableResultSettingsMap": {},
     "title": ""
    }
   },
   "source": [
    "\n",
    "&copy; 2022 Databricks, Inc. All rights reserved. The source in this notebook is provided subject to the [Databricks License](https://databricks.com/db-license-source).  All included or referenced third party libraries are subject to the licenses set forth below.\n",
    "\n",
    "| library                                | description             | license    | source                                              |\n",
    "|----------------------------------------|-------------------------|------------|-----------------------------------------------------|\n",
    "| azure-iot-device                                     | Microsoft Azure IoT Device Library | MIT    | https://pypi.org/project/azure-iot-device/                       |\n",
    "| azure-storage-blob                                | Microsoft Azure Blob Storage Client Library for Python| MIT        | https://pypi.org/project/azure-storage-blob/      |"
   ]
  }
 ],
 "metadata": {
  "application/vnd.databricks.v1+notebook": {
   "dashboards": [],
   "environmentMetadata": null,
   "language": "sql",
   "notebookMetadata": {
    "pythonIndentUnit": 2
   },
   "notebookName": "04_Silver-to-Gold ETL",
   "widgets": {}
  },
  "language_info": {
   "name": "sql"
  }
 },
 "nbformat": 4,
 "nbformat_minor": 0
}
